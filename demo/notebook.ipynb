{
 "cells": [
  {
   "cell_type": "markdown",
   "id": "f660bc09",
   "metadata": {},
   "source": [
    "# Project Notebook\n",
    "\n",
    "This notebook explores and tests the Python project in the `demo` folder."
   ]
  },
  {
   "cell_type": "markdown",
   "id": "c87b7e0e",
   "metadata": {},
   "source": [
    "## 1. Import Project Modules\n",
    "\n",
    "Import the Python modules (`a520`, `a521`, `helloworld`) from the `demo` folder for use in this notebook."
   ]
  },
  {
   "cell_type": "code",
   "execution_count": null,
   "id": "69a7f180",
   "metadata": {},
   "outputs": [],
   "source": [
    "import sys\n",
    "import os\n",
    "\n",
    "# Add the demo folder to sys.path to allow imports\n",
    "demo_path = '/Users/Mayur/myPythonProject2/demo'\n",
    "if demo_path not in sys.path:\n",
    "    sys.path.insert(0, demo_path)\n",
    "\n",
    "import a520\n",
    "import a521\n",
    "import helloworld"
   ]
  },
  {
   "cell_type": "markdown",
   "id": "8f1b67b3",
   "metadata": {},
   "source": [
    "## 2. Explore Source Files\n",
    "\n",
    "Read and display the contents of `a520.py`, `a521.py`, and `helloworld.py` to understand their code."
   ]
  },
  {
   "cell_type": "code",
   "execution_count": null,
   "id": "0bcdfc74",
   "metadata": {},
   "outputs": [],
   "source": [
    "from pathlib import Path\n",
    "\n",
    "files = ['a520.py', 'a521.py', 'helloworld.py']\n",
    "for fname in files:\n",
    "    file_path = Path(demo_path) / fname\n",
    "    print(f\"--- {fname} ---\")\n",
    "    with open(file_path, 'r') as f:\n",
    "        print(f.read())\n",
    "    print(\"\\n\")"
   ]
  },
  {
   "cell_type": "markdown",
   "id": "8b10100a",
   "metadata": {},
   "source": [
    "## 3. Run Functions from Source Files\n",
    "\n",
    "Call and demonstrate key functions or classes from the imported modules, showing their outputs."
   ]
  },
  {
   "cell_type": "code",
   "execution_count": null,
   "id": "3ba74a7f",
   "metadata": {},
   "outputs": [],
   "source": [
    "# Example usage: Adjust according to actual functions/classes in the modules\n",
    "\n",
    "print(\"a520 module demo:\")\n",
    "if hasattr(a520, 'main'):\n",
    "    print(\"a520.main():\", a520.main())\n",
    "else:\n",
    "    print(\"No main() in a520\")\n",
    "\n",
    "print(\"\\na521 module demo:\")\n",
    "if hasattr(a521, 'main'):\n",
    "    print(\"a521.main():\", a521.main())\n",
    "else:\n",
    "    print(\"No main() in a521\")\n",
    "\n",
    "print(\"\\nhelloworld module demo:\")\n",
    "if hasattr(helloworld, 'main'):\n",
    "    print(\"helloworld.main():\", helloworld.main())\n",
    "elif hasattr(helloworld, 'hello'):\n",
    "    print(\"helloworld.hello():\", helloworld.hello())\n",
    "else:\n",
    "    print(\"No main() or hello() in helloworld\")"
   ]
  },
  {
   "cell_type": "markdown",
   "id": "7aec99e8",
   "metadata": {},
   "source": [
    "## 4. Run Unit Tests\n",
    "\n",
    "Use `unittest` to discover and run the tests in `test_a520.py` and `test_a521.py`."
   ]
  },
  {
   "cell_type": "code",
   "execution_count": null,
   "id": "0e845f8a",
   "metadata": {},
   "outputs": [],
   "source": [
    "import unittest\n",
    "\n",
    "loader = unittest.TestLoader()\n",
    "suite = loader.discover(demo_path, pattern='test_*.py')\n",
    "\n",
    "runner = unittest.TextTestRunner(verbosity=2)\n",
    "test_result = runner.run(suite)"
   ]
  },
  {
   "cell_type": "markdown",
   "id": "cdf7ba1a",
   "metadata": {},
   "source": [
    "## 5. View Test Results\n",
    "\n",
    "Display the results of the unit tests, including passed and failed tests."
   ]
  },
  {
   "cell_type": "code",
   "execution_count": null,
   "id": "86419d12",
   "metadata": {},
   "outputs": [],
   "source": [
    "print(\"Ran {} tests.\".format(test_result.testsRun))\n",
    "print(\"Failures:\", len(test_result.failures))\n",
    "for test, traceback in test_result.failures:\n",
    "    print(f\"FAILED: {test}\")\n",
    "    print(traceback)\n",
    "\n",
    "print(\"Errors:\", len(test_result.errors))\n",
    "for test, traceback in test_result.errors:\n",
    "    print(f\"ERROR: {test}\")\n",
    "    print(traceback)\n",
    "\n",
    "if test_result.wasSuccessful():\n",
    "    print(\"All tests passed!\")\n",
    "else:\n",
    "    print(\"Some tests failed or had errors.\")"
   ]
  },
  {
   "cell_type": "markdown",
   "id": "eafd6c97",
   "metadata": {},
   "source": [
    "## 6. Inspect Compiled Bytecode Files\n",
    "\n",
    "List and optionally examine the `.pyc` files in the `__pycache__` directory to understand Python bytecode compilation."
   ]
  },
  {
   "cell_type": "code",
   "execution_count": null,
   "id": "2e2fccfe",
   "metadata": {},
   "outputs": [],
   "source": [
    "pycache_dir = Path(demo_path) / '__pycache__'\n",
    "pyc_files = list(pycache_dir.glob('*.pyc'))\n",
    "\n",
    "print(\"Compiled .pyc files in __pycache__:\")\n",
    "for pyc in pyc_files:\n",
    "    print(\"-\", pyc.name)\n",
    "\n",
    "# Optionally, show details about one .pyc file\n",
    "if pyc_files:\n",
    "    print(\"\\nExamining first .pyc file:\")\n",
    "    with open(pyc_files[0], 'rb') as f:\n",
    "        magic = f.read(4)\n",
    "        print(\"Magic number (first 4 bytes):\", magic)\n",
    "        # Optionally, show more bytes or use the 'dis' module for further inspection"
   ]
  }
 ],
 "metadata": {
  "language_info": {
   "name": "python"
  }
 },
 "nbformat": 4,
 "nbformat_minor": 5
}
